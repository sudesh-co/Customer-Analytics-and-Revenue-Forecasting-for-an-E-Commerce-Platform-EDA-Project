{
 "cells": [
  {
   "cell_type": "markdown",
   "id": "1751ad32",
   "metadata": {},
   "source": [
    "## Basic Data Merging and Summary Statistics\n",
    "\n",
    "file we use  / dataset we use\n",
    "1.  orders.csv\n",
    "2.  customers.csv\n",
    "3.  order_items.csv\n"
   ]
  },
  {
   "cell_type": "code",
   "execution_count": 251,
   "id": "5674498a",
   "metadata": {},
   "outputs": [],
   "source": [
    "#importing  all libraries thise we will use\n",
    "import numpy as np\n",
    "import pandas as pd\n",
    "import matplotlib.pyplot as plt\n",
    "import seaborn as sns\n",
    "import warnings\n",
    "import datetime as dt\n",
    "warnings.filterwarnings('ignore')"
   ]
  },
  {
   "cell_type": "code",
   "execution_count": 187,
   "id": "76802a1d",
   "metadata": {},
   "outputs": [
    {
     "name": "stdout",
     "output_type": "stream",
     "text": [
      "\n",
      "Order data dataframe\n",
      "                           order_id                       customer_id order_status order_purchase_timestamp    order_approved_at order_delivered_carrier_date order_delivered_customer_date order_estimated_delivery_date\n",
      "0  e481f51cbdc54678b7cc49136f2d6af7  9ef432eb6251297304e76186b10a928d    delivered      2017-10-02 10:56:33  2017-10-02 11:07:15          2017-10-04 19:55:00           2017-10-10 21:25:13           2017-10-18 00:00:00\n",
      "1  53cdb2fc8bc7dce0b6741e2150273451  b0830fb4747a6c6d20dea0b8c802d7ef    delivered      2018-07-24 20:41:37  2018-07-26 03:24:27          2018-07-26 14:31:00           2018-08-07 15:27:45           2018-08-13 00:00:00\n",
      "2  47770eb9100c2d0c44946d9cf07ec65d  41ce2a54c0b03bf3443c3d931a367089    delivered      2018-08-08 08:38:49  2018-08-08 08:55:23          2018-08-08 13:50:00           2018-08-17 18:06:29           2018-09-04 00:00:00\n",
      "3  949d5b44dbf5de918fe9c16f97b45f8a  f88197465ea7920adcdbec7375364d82    delivered      2017-11-18 19:28:06  2017-11-18 19:45:59          2017-11-22 13:39:59           2017-12-02 00:28:42           2017-12-15 00:00:00\n",
      "4  ad21c59c0840e6cb83a9ceb5573f8159  8ab97904e6daea8866dbdbc4fb7aad2c    delivered      2018-02-13 21:18:39  2018-02-13 22:20:29          2018-02-14 19:46:34           2018-02-16 18:17:02           2018-02-26 00:00:00\n",
      "\n",
      "Customers details dataframe\n",
      "--------------------------------------------------------------------------------------------------------------------------------------------------------------------------------------------------------------------------\n",
      "                        customer_id                customer_unique_id  customer_zip_code_prefix          customer_city customer_state\n",
      "0  06b8999e2fba1a1fbc88172c00ba8bc7  861eff4711a542e4b93843c6dd7febb0                     14409                 franca             SP\n",
      "1  18955e83d337fd6b2def6b18a428ac77  290c77bc529b7ac935b93aa66c333dc3                      9790  sao bernardo do campo             SP\n",
      "2  4e7b3e00288586ebd08712fdd0374a03  060e732b5b29e8181a18229c7b0b2b5e                      1151              sao paulo             SP\n",
      "3  b2b6027bc5c5109e529d4dc6358b12c3  259dac757896d24d7702b9acbbff3f3c                      8775        mogi das cruzes             SP\n",
      "4  4f2d8ab171c80ec8364f7c12e35b23ad  345ecd01c38d18a9036ed96c73b8d066                     13056               campinas             SP\n",
      "\n",
      "Order Items dataframe\n",
      "--------------------------------------------------------------------------------------------------------------------------------------------------------------------------------------------------------------------------\n",
      "                           order_id  order_item_id                        product_id                         seller_id  shipping_limit_date   price  freight_value\n",
      "0  00010242fe8c5a6d1ba2dd792cb16214              1  4244733e06e7ecb4970a6e2683c13e61  48436dade18ac8b2bce089ec2a041202  2017-09-19 09:45:35   58.90          13.29\n",
      "1  00018f77f2f0320c557190d7a144bdd3              1  e5f2d52b802189ee658865ca93d83a8f  dd7ddc04e1b6c2c614352b383efe2d36  2017-05-03 11:05:13  239.90          19.93\n",
      "2  000229ec398224ef6ca0657da4fc703e              1  c777355d18b72b67abbeef9df44fd0fd  5b51032eddd242adc84c38acab88f23d  2018-01-18 14:48:30  199.00          17.87\n",
      "3  00024acbcdf0a6daa1e931b038114c75              1  7634da152a4610f1595efa32f14722fc  9d7a1d34a5052409006425275ba1c2b4  2018-08-15 10:10:18   12.99          12.79\n",
      "4  00042b26cf59d7ce69dfabb4e55b4fd9              1  ac6c3623068f30de03045865e4e10089  df560393f3a51e74553ab94004ba5c87  2017-02-13 13:57:51  199.90          18.14\n"
     ]
    }
   ],
   "source": [
    "# load datasets\n",
    "order_df = pd.read_csv('../Dataset/olist_orders_dataset.csv')\n",
    "customers_df = pd.read_csv('../Dataset/olist_customers_dataset.csv')\n",
    "order_items_df = pd.read_csv('../Dataset/olist_order_items_dataset.csv')\n",
    "\n",
    "pd.set_option('display.max_columns', None)\n",
    "pd.set_option('display.expand_frame_repr', False)\n",
    "print(\"\\nOrder data dataframe\")\n",
    "print(order_df.head())\n",
    "print(\"\\nCustomers details dataframe\")\n",
    "print(\"--------------------------------------------------------------------------------------------------------------------------------------------------------------------------------------------------------------------------\")\n",
    "print(customers_df.head())\n",
    "print(\"\\nOrder Items dataframe\")\n",
    "print(\"--------------------------------------------------------------------------------------------------------------------------------------------------------------------------------------------------------------------------\")\n",
    "print(order_items_df.head())"
   ]
  },
  {
   "cell_type": "code",
   "execution_count": 188,
   "id": "f91ce215",
   "metadata": {},
   "outputs": [],
   "source": [
    "# putting multiple dataframes in  single excel  for better analysis of relation\n",
    "def multiple_dfs(df_list, sheets, file_name, spaces):\n",
    "    writer = pd.ExcelWriter(file_name)\n",
    "    row = 0\n",
    "    for dataframe in df_list:\n",
    "        dataframe.to_excel(writer,sheet_name=sheets,startrow=row , startcol=0)\n",
    "        row = row + len(dataframe.index) + spaces + 1\n",
    "    writer.close()\n",
    "\n",
    "df= order_df.head()\n",
    "df1= customers_df.head()\n",
    "df2= order_items_df.head()\n",
    "dfs = [df,df1,df2]\n",
    "\n",
    "multiple_dfs(dfs, 'Validation', 'AnalysingFiinalMerge.xlsx', 1)"
   ]
  },
  {
   "cell_type": "code",
   "execution_count": 189,
   "id": "f181657f",
   "metadata": {},
   "outputs": [],
   "source": [
    "\n",
    "# mearging  all three dataframe to make a unified dataframe\n",
    "first_mearge = pd.merge(order_df, customers_df, on='customer_id')\n",
    "first_mearge.head()\n",
    "\n",
    "final_mearge = pd.merge(first_mearge, order_items_df, on='order_id')\n",
    "final_mearge.head()\n",
    "export_to_excel = final_mearge.to_excel('output.xlsx', index=False)\n"
   ]
  },
  {
   "cell_type": "code",
   "execution_count": 190,
   "id": "50a646e4",
   "metadata": {},
   "outputs": [
    {
     "data": {
      "text/html": [
       "<div>\n",
       "<style scoped>\n",
       "    .dataframe tbody tr th:only-of-type {\n",
       "        vertical-align: middle;\n",
       "    }\n",
       "\n",
       "    .dataframe tbody tr th {\n",
       "        vertical-align: top;\n",
       "    }\n",
       "\n",
       "    .dataframe thead th {\n",
       "        text-align: right;\n",
       "    }\n",
       "</style>\n",
       "<table border=\"1\" class=\"dataframe\">\n",
       "  <thead>\n",
       "    <tr style=\"text-align: right;\">\n",
       "      <th></th>\n",
       "      <th>order_id</th>\n",
       "      <th>customer_id</th>\n",
       "      <th>order_status</th>\n",
       "      <th>order_purchase_timestamp</th>\n",
       "      <th>order_approved_at</th>\n",
       "      <th>order_delivered_carrier_date</th>\n",
       "      <th>order_delivered_customer_date</th>\n",
       "      <th>order_estimated_delivery_date</th>\n",
       "      <th>customer_unique_id</th>\n",
       "      <th>customer_zip_code_prefix</th>\n",
       "      <th>customer_city</th>\n",
       "      <th>customer_state</th>\n",
       "      <th>order_item_id</th>\n",
       "      <th>product_id</th>\n",
       "      <th>seller_id</th>\n",
       "      <th>shipping_limit_date</th>\n",
       "      <th>price</th>\n",
       "      <th>freight_value</th>\n",
       "    </tr>\n",
       "  </thead>\n",
       "  <tbody>\n",
       "    <tr>\n",
       "      <th>0</th>\n",
       "      <td>e481f51cbdc54678b7cc49136f2d6af7</td>\n",
       "      <td>9ef432eb6251297304e76186b10a928d</td>\n",
       "      <td>delivered</td>\n",
       "      <td>2017-10-02 10:56:33</td>\n",
       "      <td>2017-10-02 11:07:15</td>\n",
       "      <td>2017-10-04 19:55:00</td>\n",
       "      <td>2017-10-10 21:25:13</td>\n",
       "      <td>2017-10-18 00:00:00</td>\n",
       "      <td>7c396fd4830fd04220f754e42b4e5bff</td>\n",
       "      <td>3149</td>\n",
       "      <td>sao paulo</td>\n",
       "      <td>SP</td>\n",
       "      <td>1</td>\n",
       "      <td>87285b34884572647811a353c7ac498a</td>\n",
       "      <td>3504c0cb71d7fa48d967e0e4c94d59d9</td>\n",
       "      <td>2017-10-06 11:07:15</td>\n",
       "      <td>29.99</td>\n",
       "      <td>8.72</td>\n",
       "    </tr>\n",
       "    <tr>\n",
       "      <th>1</th>\n",
       "      <td>53cdb2fc8bc7dce0b6741e2150273451</td>\n",
       "      <td>b0830fb4747a6c6d20dea0b8c802d7ef</td>\n",
       "      <td>delivered</td>\n",
       "      <td>2018-07-24 20:41:37</td>\n",
       "      <td>2018-07-26 03:24:27</td>\n",
       "      <td>2018-07-26 14:31:00</td>\n",
       "      <td>2018-08-07 15:27:45</td>\n",
       "      <td>2018-08-13 00:00:00</td>\n",
       "      <td>af07308b275d755c9edb36a90c618231</td>\n",
       "      <td>47813</td>\n",
       "      <td>barreiras</td>\n",
       "      <td>BA</td>\n",
       "      <td>1</td>\n",
       "      <td>595fac2a385ac33a80bd5114aec74eb8</td>\n",
       "      <td>289cdb325fb7e7f891c38608bf9e0962</td>\n",
       "      <td>2018-07-30 03:24:27</td>\n",
       "      <td>118.70</td>\n",
       "      <td>22.76</td>\n",
       "    </tr>\n",
       "    <tr>\n",
       "      <th>2</th>\n",
       "      <td>47770eb9100c2d0c44946d9cf07ec65d</td>\n",
       "      <td>41ce2a54c0b03bf3443c3d931a367089</td>\n",
       "      <td>delivered</td>\n",
       "      <td>2018-08-08 08:38:49</td>\n",
       "      <td>2018-08-08 08:55:23</td>\n",
       "      <td>2018-08-08 13:50:00</td>\n",
       "      <td>2018-08-17 18:06:29</td>\n",
       "      <td>2018-09-04 00:00:00</td>\n",
       "      <td>3a653a41f6f9fc3d2a113cf8398680e8</td>\n",
       "      <td>75265</td>\n",
       "      <td>vianopolis</td>\n",
       "      <td>GO</td>\n",
       "      <td>1</td>\n",
       "      <td>aa4383b373c6aca5d8797843e5594415</td>\n",
       "      <td>4869f7a5dfa277a7dca6462dcf3b52b2</td>\n",
       "      <td>2018-08-13 08:55:23</td>\n",
       "      <td>159.90</td>\n",
       "      <td>19.22</td>\n",
       "    </tr>\n",
       "    <tr>\n",
       "      <th>3</th>\n",
       "      <td>949d5b44dbf5de918fe9c16f97b45f8a</td>\n",
       "      <td>f88197465ea7920adcdbec7375364d82</td>\n",
       "      <td>delivered</td>\n",
       "      <td>2017-11-18 19:28:06</td>\n",
       "      <td>2017-11-18 19:45:59</td>\n",
       "      <td>2017-11-22 13:39:59</td>\n",
       "      <td>2017-12-02 00:28:42</td>\n",
       "      <td>2017-12-15 00:00:00</td>\n",
       "      <td>7c142cf63193a1473d2e66489a9ae977</td>\n",
       "      <td>59296</td>\n",
       "      <td>sao goncalo do amarante</td>\n",
       "      <td>RN</td>\n",
       "      <td>1</td>\n",
       "      <td>d0b61bfb1de832b15ba9d266ca96e5b0</td>\n",
       "      <td>66922902710d126a0e7d26b0e3805106</td>\n",
       "      <td>2017-11-23 19:45:59</td>\n",
       "      <td>45.00</td>\n",
       "      <td>27.20</td>\n",
       "    </tr>\n",
       "    <tr>\n",
       "      <th>4</th>\n",
       "      <td>ad21c59c0840e6cb83a9ceb5573f8159</td>\n",
       "      <td>8ab97904e6daea8866dbdbc4fb7aad2c</td>\n",
       "      <td>delivered</td>\n",
       "      <td>2018-02-13 21:18:39</td>\n",
       "      <td>2018-02-13 22:20:29</td>\n",
       "      <td>2018-02-14 19:46:34</td>\n",
       "      <td>2018-02-16 18:17:02</td>\n",
       "      <td>2018-02-26 00:00:00</td>\n",
       "      <td>72632f0f9dd73dfee390c9b22eb56dd6</td>\n",
       "      <td>9195</td>\n",
       "      <td>santo andre</td>\n",
       "      <td>SP</td>\n",
       "      <td>1</td>\n",
       "      <td>65266b2da20d04dbe00c5c2d3bb7859e</td>\n",
       "      <td>2c9e548be18521d1c43cde1c582c6de8</td>\n",
       "      <td>2018-02-19 20:31:37</td>\n",
       "      <td>19.90</td>\n",
       "      <td>8.72</td>\n",
       "    </tr>\n",
       "  </tbody>\n",
       "</table>\n",
       "</div>"
      ],
      "text/plain": [
       "                           order_id                       customer_id order_status order_purchase_timestamp    order_approved_at order_delivered_carrier_date order_delivered_customer_date order_estimated_delivery_date                customer_unique_id  customer_zip_code_prefix            customer_city customer_state  order_item_id                        product_id                         seller_id  shipping_limit_date   price  freight_value\n",
       "0  e481f51cbdc54678b7cc49136f2d6af7  9ef432eb6251297304e76186b10a928d    delivered      2017-10-02 10:56:33  2017-10-02 11:07:15          2017-10-04 19:55:00           2017-10-10 21:25:13           2017-10-18 00:00:00  7c396fd4830fd04220f754e42b4e5bff                      3149                sao paulo             SP              1  87285b34884572647811a353c7ac498a  3504c0cb71d7fa48d967e0e4c94d59d9  2017-10-06 11:07:15   29.99           8.72\n",
       "1  53cdb2fc8bc7dce0b6741e2150273451  b0830fb4747a6c6d20dea0b8c802d7ef    delivered      2018-07-24 20:41:37  2018-07-26 03:24:27          2018-07-26 14:31:00           2018-08-07 15:27:45           2018-08-13 00:00:00  af07308b275d755c9edb36a90c618231                     47813                barreiras             BA              1  595fac2a385ac33a80bd5114aec74eb8  289cdb325fb7e7f891c38608bf9e0962  2018-07-30 03:24:27  118.70          22.76\n",
       "2  47770eb9100c2d0c44946d9cf07ec65d  41ce2a54c0b03bf3443c3d931a367089    delivered      2018-08-08 08:38:49  2018-08-08 08:55:23          2018-08-08 13:50:00           2018-08-17 18:06:29           2018-09-04 00:00:00  3a653a41f6f9fc3d2a113cf8398680e8                     75265               vianopolis             GO              1  aa4383b373c6aca5d8797843e5594415  4869f7a5dfa277a7dca6462dcf3b52b2  2018-08-13 08:55:23  159.90          19.22\n",
       "3  949d5b44dbf5de918fe9c16f97b45f8a  f88197465ea7920adcdbec7375364d82    delivered      2017-11-18 19:28:06  2017-11-18 19:45:59          2017-11-22 13:39:59           2017-12-02 00:28:42           2017-12-15 00:00:00  7c142cf63193a1473d2e66489a9ae977                     59296  sao goncalo do amarante             RN              1  d0b61bfb1de832b15ba9d266ca96e5b0  66922902710d126a0e7d26b0e3805106  2017-11-23 19:45:59   45.00          27.20\n",
       "4  ad21c59c0840e6cb83a9ceb5573f8159  8ab97904e6daea8866dbdbc4fb7aad2c    delivered      2018-02-13 21:18:39  2018-02-13 22:20:29          2018-02-14 19:46:34           2018-02-16 18:17:02           2018-02-26 00:00:00  72632f0f9dd73dfee390c9b22eb56dd6                      9195              santo andre             SP              1  65266b2da20d04dbe00c5c2d3bb7859e  2c9e548be18521d1c43cde1c582c6de8  2018-02-19 20:31:37   19.90           8.72"
      ]
     },
     "execution_count": 190,
     "metadata": {},
     "output_type": "execute_result"
    }
   ],
   "source": [
    "final_mearge.head()"
   ]
  },
  {
   "cell_type": "code",
   "execution_count": 191,
   "id": "3ecff5de",
   "metadata": {},
   "outputs": [
    {
     "data": {
      "text/html": [
       "<div>\n",
       "<style scoped>\n",
       "    .dataframe tbody tr th:only-of-type {\n",
       "        vertical-align: middle;\n",
       "    }\n",
       "\n",
       "    .dataframe tbody tr th {\n",
       "        vertical-align: top;\n",
       "    }\n",
       "\n",
       "    .dataframe thead th {\n",
       "        text-align: right;\n",
       "    }\n",
       "</style>\n",
       "<table border=\"1\" class=\"dataframe\">\n",
       "  <thead>\n",
       "    <tr style=\"text-align: right;\">\n",
       "      <th></th>\n",
       "      <th>customer_id</th>\n",
       "      <th>order_id</th>\n",
       "      <th>order_status</th>\n",
       "      <th>order_purchase_timestamp</th>\n",
       "      <th>product_id</th>\n",
       "      <th>price</th>\n",
       "      <th>freight_value</th>\n",
       "    </tr>\n",
       "  </thead>\n",
       "  <tbody>\n",
       "    <tr>\n",
       "      <th>0</th>\n",
       "      <td>9ef432eb6251297304e76186b10a928d</td>\n",
       "      <td>e481f51cbdc54678b7cc49136f2d6af7</td>\n",
       "      <td>delivered</td>\n",
       "      <td>2017-10-02 10:56:33</td>\n",
       "      <td>87285b34884572647811a353c7ac498a</td>\n",
       "      <td>29.99</td>\n",
       "      <td>8.72</td>\n",
       "    </tr>\n",
       "    <tr>\n",
       "      <th>1</th>\n",
       "      <td>b0830fb4747a6c6d20dea0b8c802d7ef</td>\n",
       "      <td>53cdb2fc8bc7dce0b6741e2150273451</td>\n",
       "      <td>delivered</td>\n",
       "      <td>2018-07-24 20:41:37</td>\n",
       "      <td>595fac2a385ac33a80bd5114aec74eb8</td>\n",
       "      <td>118.70</td>\n",
       "      <td>22.76</td>\n",
       "    </tr>\n",
       "    <tr>\n",
       "      <th>2</th>\n",
       "      <td>41ce2a54c0b03bf3443c3d931a367089</td>\n",
       "      <td>47770eb9100c2d0c44946d9cf07ec65d</td>\n",
       "      <td>delivered</td>\n",
       "      <td>2018-08-08 08:38:49</td>\n",
       "      <td>aa4383b373c6aca5d8797843e5594415</td>\n",
       "      <td>159.90</td>\n",
       "      <td>19.22</td>\n",
       "    </tr>\n",
       "    <tr>\n",
       "      <th>3</th>\n",
       "      <td>f88197465ea7920adcdbec7375364d82</td>\n",
       "      <td>949d5b44dbf5de918fe9c16f97b45f8a</td>\n",
       "      <td>delivered</td>\n",
       "      <td>2017-11-18 19:28:06</td>\n",
       "      <td>d0b61bfb1de832b15ba9d266ca96e5b0</td>\n",
       "      <td>45.00</td>\n",
       "      <td>27.20</td>\n",
       "    </tr>\n",
       "    <tr>\n",
       "      <th>4</th>\n",
       "      <td>8ab97904e6daea8866dbdbc4fb7aad2c</td>\n",
       "      <td>ad21c59c0840e6cb83a9ceb5573f8159</td>\n",
       "      <td>delivered</td>\n",
       "      <td>2018-02-13 21:18:39</td>\n",
       "      <td>65266b2da20d04dbe00c5c2d3bb7859e</td>\n",
       "      <td>19.90</td>\n",
       "      <td>8.72</td>\n",
       "    </tr>\n",
       "  </tbody>\n",
       "</table>\n",
       "</div>"
      ],
      "text/plain": [
       "                        customer_id                          order_id order_status order_purchase_timestamp                        product_id   price  freight_value\n",
       "0  9ef432eb6251297304e76186b10a928d  e481f51cbdc54678b7cc49136f2d6af7    delivered      2017-10-02 10:56:33  87285b34884572647811a353c7ac498a   29.99           8.72\n",
       "1  b0830fb4747a6c6d20dea0b8c802d7ef  53cdb2fc8bc7dce0b6741e2150273451    delivered      2018-07-24 20:41:37  595fac2a385ac33a80bd5114aec74eb8  118.70          22.76\n",
       "2  41ce2a54c0b03bf3443c3d931a367089  47770eb9100c2d0c44946d9cf07ec65d    delivered      2018-08-08 08:38:49  aa4383b373c6aca5d8797843e5594415  159.90          19.22\n",
       "3  f88197465ea7920adcdbec7375364d82  949d5b44dbf5de918fe9c16f97b45f8a    delivered      2017-11-18 19:28:06  d0b61bfb1de832b15ba9d266ca96e5b0   45.00          27.20\n",
       "4  8ab97904e6daea8866dbdbc4fb7aad2c  ad21c59c0840e6cb83a9ceb5573f8159    delivered      2018-02-13 21:18:39  65266b2da20d04dbe00c5c2d3bb7859e   19.90           8.72"
      ]
     },
     "execution_count": 191,
     "metadata": {},
     "output_type": "execute_result"
    }
   ],
   "source": [
    "#Keep only needed or usefull in  analysis\n",
    "\n",
    "columns =[ \"customer_id\", \"order_id\", \"order_status\", \"order_purchase_timestamp\", \"product_id\", \"price\", \"freight_value\"]\n",
    "df = final_mearge[columns]\n",
    "df.head()"
   ]
  },
  {
   "cell_type": "markdown",
   "id": "ef93a040",
   "metadata": {},
   "source": [
    "## Checking Summery of dataframe using df.info()"
   ]
  },
  {
   "cell_type": "code",
   "execution_count": 192,
   "id": "b5caf517",
   "metadata": {},
   "outputs": [
    {
     "name": "stdout",
     "output_type": "stream",
     "text": [
      "<class 'pandas.core.frame.DataFrame'>\n",
      "RangeIndex: 112650 entries, 0 to 112649\n",
      "Data columns (total 7 columns):\n",
      " #   Column                    Non-Null Count   Dtype  \n",
      "---  ------                    --------------   -----  \n",
      " 0   customer_id               112650 non-null  object \n",
      " 1   order_id                  112650 non-null  object \n",
      " 2   order_status              112650 non-null  object \n",
      " 3   order_purchase_timestamp  112650 non-null  object \n",
      " 4   product_id                112650 non-null  object \n",
      " 5   price                     112650 non-null  float64\n",
      " 6   freight_value             112650 non-null  float64\n",
      "dtypes: float64(2), object(5)\n",
      "memory usage: 6.0+ MB\n"
     ]
    }
   ],
   "source": [
    "##Summmary \n",
    "df.info()\n",
    "\n",
    "## Here i see in this dataframe here have 112650 entries range from 0 - 112649\n",
    "## Coulumns : customer_id , order_id , order_status , order_purchase_timestamp , product_id ,price , freight_value             \n",
    "## Datatypes :dtypes: float64(2), object(5)\n",
    "            "
   ]
  },
  {
   "cell_type": "markdown",
   "id": "77248d78",
   "metadata": {},
   "source": [
    "## Generating the descriptive statistics for all columns both numerical and categorical \n",
    "    for numerical data : Count,Mean,std,min,max, and percentiels like 25/50/75%\n",
    "    for object data :count ,unique, top , freq\n",
    "\n",
    "### Here using this df.describe(include=\"all\") method we spot outliers or unusual features \n",
    "### Understands central destribution and central tendancy \n",
    "   "
   ]
  },
  {
   "cell_type": "code",
   "execution_count": 193,
   "id": "8a000344",
   "metadata": {},
   "outputs": [
    {
     "data": {
      "text/html": [
       "<div>\n",
       "<style scoped>\n",
       "    .dataframe tbody tr th:only-of-type {\n",
       "        vertical-align: middle;\n",
       "    }\n",
       "\n",
       "    .dataframe tbody tr th {\n",
       "        vertical-align: top;\n",
       "    }\n",
       "\n",
       "    .dataframe thead th {\n",
       "        text-align: right;\n",
       "    }\n",
       "</style>\n",
       "<table border=\"1\" class=\"dataframe\">\n",
       "  <thead>\n",
       "    <tr style=\"text-align: right;\">\n",
       "      <th></th>\n",
       "      <th>count</th>\n",
       "      <th>unique</th>\n",
       "      <th>top</th>\n",
       "      <th>freq</th>\n",
       "      <th>mean</th>\n",
       "      <th>std</th>\n",
       "      <th>min</th>\n",
       "      <th>25%</th>\n",
       "      <th>50%</th>\n",
       "      <th>75%</th>\n",
       "      <th>max</th>\n",
       "    </tr>\n",
       "  </thead>\n",
       "  <tbody>\n",
       "    <tr>\n",
       "      <th>customer_id</th>\n",
       "      <td>112650</td>\n",
       "      <td>98666</td>\n",
       "      <td>fc3d1daec319d62d49bfb5e1f83123e9</td>\n",
       "      <td>21</td>\n",
       "      <td>NaN</td>\n",
       "      <td>NaN</td>\n",
       "      <td>NaN</td>\n",
       "      <td>NaN</td>\n",
       "      <td>NaN</td>\n",
       "      <td>NaN</td>\n",
       "      <td>NaN</td>\n",
       "    </tr>\n",
       "    <tr>\n",
       "      <th>order_id</th>\n",
       "      <td>112650</td>\n",
       "      <td>98666</td>\n",
       "      <td>8272b63d03f5f79c56e9e4120aec44ef</td>\n",
       "      <td>21</td>\n",
       "      <td>NaN</td>\n",
       "      <td>NaN</td>\n",
       "      <td>NaN</td>\n",
       "      <td>NaN</td>\n",
       "      <td>NaN</td>\n",
       "      <td>NaN</td>\n",
       "      <td>NaN</td>\n",
       "    </tr>\n",
       "    <tr>\n",
       "      <th>order_status</th>\n",
       "      <td>112650</td>\n",
       "      <td>7</td>\n",
       "      <td>delivered</td>\n",
       "      <td>110197</td>\n",
       "      <td>NaN</td>\n",
       "      <td>NaN</td>\n",
       "      <td>NaN</td>\n",
       "      <td>NaN</td>\n",
       "      <td>NaN</td>\n",
       "      <td>NaN</td>\n",
       "      <td>NaN</td>\n",
       "    </tr>\n",
       "    <tr>\n",
       "      <th>order_purchase_timestamp</th>\n",
       "      <td>112650</td>\n",
       "      <td>98112</td>\n",
       "      <td>2017-07-16 18:19:25</td>\n",
       "      <td>21</td>\n",
       "      <td>NaN</td>\n",
       "      <td>NaN</td>\n",
       "      <td>NaN</td>\n",
       "      <td>NaN</td>\n",
       "      <td>NaN</td>\n",
       "      <td>NaN</td>\n",
       "      <td>NaN</td>\n",
       "    </tr>\n",
       "    <tr>\n",
       "      <th>product_id</th>\n",
       "      <td>112650</td>\n",
       "      <td>32951</td>\n",
       "      <td>aca2eb7d00ea1a7b8ebd4e68314663af</td>\n",
       "      <td>527</td>\n",
       "      <td>NaN</td>\n",
       "      <td>NaN</td>\n",
       "      <td>NaN</td>\n",
       "      <td>NaN</td>\n",
       "      <td>NaN</td>\n",
       "      <td>NaN</td>\n",
       "      <td>NaN</td>\n",
       "    </tr>\n",
       "    <tr>\n",
       "      <th>price</th>\n",
       "      <td>112650.0</td>\n",
       "      <td>NaN</td>\n",
       "      <td>NaN</td>\n",
       "      <td>NaN</td>\n",
       "      <td>120.653739</td>\n",
       "      <td>183.633928</td>\n",
       "      <td>0.85</td>\n",
       "      <td>39.9</td>\n",
       "      <td>74.99</td>\n",
       "      <td>134.9</td>\n",
       "      <td>6735.0</td>\n",
       "    </tr>\n",
       "    <tr>\n",
       "      <th>freight_value</th>\n",
       "      <td>112650.0</td>\n",
       "      <td>NaN</td>\n",
       "      <td>NaN</td>\n",
       "      <td>NaN</td>\n",
       "      <td>19.99032</td>\n",
       "      <td>15.806405</td>\n",
       "      <td>0.0</td>\n",
       "      <td>13.08</td>\n",
       "      <td>16.26</td>\n",
       "      <td>21.15</td>\n",
       "      <td>409.68</td>\n",
       "    </tr>\n",
       "  </tbody>\n",
       "</table>\n",
       "</div>"
      ],
      "text/plain": [
       "                             count unique                               top    freq        mean         std   min    25%    50%    75%     max\n",
       "customer_id                 112650  98666  fc3d1daec319d62d49bfb5e1f83123e9      21         NaN         NaN   NaN    NaN    NaN    NaN     NaN\n",
       "order_id                    112650  98666  8272b63d03f5f79c56e9e4120aec44ef      21         NaN         NaN   NaN    NaN    NaN    NaN     NaN\n",
       "order_status                112650      7                         delivered  110197         NaN         NaN   NaN    NaN    NaN    NaN     NaN\n",
       "order_purchase_timestamp    112650  98112               2017-07-16 18:19:25      21         NaN         NaN   NaN    NaN    NaN    NaN     NaN\n",
       "product_id                  112650  32951  aca2eb7d00ea1a7b8ebd4e68314663af     527         NaN         NaN   NaN    NaN    NaN    NaN     NaN\n",
       "price                     112650.0    NaN                               NaN     NaN  120.653739  183.633928  0.85   39.9  74.99  134.9  6735.0\n",
       "freight_value             112650.0    NaN                               NaN     NaN    19.99032   15.806405   0.0  13.08  16.26  21.15  409.68"
      ]
     },
     "execution_count": 193,
     "metadata": {},
     "output_type": "execute_result"
    }
   ],
   "source": [
    "df.describe(include=\"all\").T"
   ]
  },
  {
   "cell_type": "markdown",
   "id": "203c661c",
   "metadata": {},
   "source": [
    "## Size of dataframe"
   ]
  },
  {
   "cell_type": "code",
   "execution_count": 194,
   "id": "0993cbce",
   "metadata": {},
   "outputs": [
    {
     "data": {
      "text/plain": [
       "(112650, 7)"
      ]
     },
     "execution_count": 194,
     "metadata": {},
     "output_type": "execute_result"
    }
   ],
   "source": [
    "df.shape"
   ]
  },
  {
   "cell_type": "markdown",
   "id": "bda99915",
   "metadata": {},
   "source": [
    "## Datatype of columns included in dataframe\n"
   ]
  },
  {
   "cell_type": "code",
   "execution_count": 195,
   "id": "847a69b1",
   "metadata": {},
   "outputs": [
    {
     "data": {
      "text/plain": [
       "customer_id                  object\n",
       "order_id                     object\n",
       "order_status                 object\n",
       "order_purchase_timestamp     object\n",
       "product_id                   object\n",
       "price                       float64\n",
       "freight_value               float64\n",
       "dtype: object"
      ]
     },
     "execution_count": 195,
     "metadata": {},
     "output_type": "execute_result"
    }
   ],
   "source": [
    "df.dtypes"
   ]
  },
  {
   "cell_type": "markdown",
   "id": "7cb8d917",
   "metadata": {},
   "source": [
    "## Cleaning of data and handling null and dupplicate values if exists "
   ]
  },
  {
   "cell_type": "code",
   "execution_count": 196,
   "id": "0ee0a627",
   "metadata": {},
   "outputs": [
    {
     "name": "stdout",
     "output_type": "stream",
     "text": [
      "customer_id                 112650\n",
      "order_id                    112650\n",
      "order_status                112650\n",
      "order_purchase_timestamp    112650\n",
      "product_id                  112650\n",
      "price                       112650\n",
      "freight_value               112650\n",
      "dtype: int64\n"
     ]
    },
    {
     "data": {
      "text/plain": [
       "np.int64(13984)"
      ]
     },
     "execution_count": 196,
     "metadata": {},
     "output_type": "execute_result"
    }
   ],
   "source": [
    "#Check null values \n",
    "# df.isna().sum()\n",
    "#in this dataset  their have no null values \n",
    "print(df.count()) \n",
    "df.duplicated(subset='order_id').sum()"
   ]
  },
  {
   "cell_type": "code",
   "execution_count": 197,
   "id": "988e5d4a",
   "metadata": {},
   "outputs": [
    {
     "name": "stdout",
     "output_type": "stream",
     "text": [
      "customer_id                 112650\n",
      "order_id                    112650\n",
      "order_status                112650\n",
      "order_purchase_timestamp    112650\n",
      "product_id                  112650\n",
      "price                       112650\n",
      "freight_value               112650\n",
      "dtype: int64\n"
     ]
    },
    {
     "data": {
      "text/html": [
       "<div>\n",
       "<style scoped>\n",
       "    .dataframe tbody tr th:only-of-type {\n",
       "        vertical-align: middle;\n",
       "    }\n",
       "\n",
       "    .dataframe tbody tr th {\n",
       "        vertical-align: top;\n",
       "    }\n",
       "\n",
       "    .dataframe thead th {\n",
       "        text-align: right;\n",
       "    }\n",
       "</style>\n",
       "<table border=\"1\" class=\"dataframe\">\n",
       "  <thead>\n",
       "    <tr style=\"text-align: right;\">\n",
       "      <th></th>\n",
       "      <th>customer_id</th>\n",
       "      <th>order_id</th>\n",
       "      <th>order_status</th>\n",
       "      <th>order_purchase_timestamp</th>\n",
       "      <th>product_id</th>\n",
       "      <th>price</th>\n",
       "      <th>freight_value</th>\n",
       "    </tr>\n",
       "  </thead>\n",
       "  <tbody>\n",
       "    <tr>\n",
       "      <th>11</th>\n",
       "      <td>494dded5b201313c64ed7f100595b95c</td>\n",
       "      <td>e6ce16cb79ec1d90b1da9085a6118aeb</td>\n",
       "      <td>delivered</td>\n",
       "      <td>2017-05-16 19:41:10</td>\n",
       "      <td>08574b074924071f4e201e151b152b4e</td>\n",
       "      <td>99.00</td>\n",
       "      <td>30.53</td>\n",
       "    </tr>\n",
       "    <tr>\n",
       "      <th>55</th>\n",
       "      <td>79183cd650e2bb0d475b0067d45946ac</td>\n",
       "      <td>9faeb9b2746b9d7526aef5acb08e2aa0</td>\n",
       "      <td>delivered</td>\n",
       "      <td>2018-07-26 14:39:59</td>\n",
       "      <td>f48eb5c2fde13ca63664f0bb05f55346</td>\n",
       "      <td>60.00</td>\n",
       "      <td>15.52</td>\n",
       "    </tr>\n",
       "    <tr>\n",
       "      <th>61</th>\n",
       "      <td>684fa6da5134b9e4dab731e00011712d</td>\n",
       "      <td>66e4624ae69e7dc89bd50222b59f581f</td>\n",
       "      <td>delivered</td>\n",
       "      <td>2018-03-09 14:50:15</td>\n",
       "      <td>b37b72d5a56f887725c2862184b8cab8</td>\n",
       "      <td>22.99</td>\n",
       "      <td>22.85</td>\n",
       "    </tr>\n",
       "    <tr>\n",
       "      <th>71</th>\n",
       "      <td>5dda11942d4f77bee3a46d71e442aec4</td>\n",
       "      <td>f271576bed568e896f99eb710cd3a6f8</td>\n",
       "      <td>delivered</td>\n",
       "      <td>2018-01-07 21:44:54</td>\n",
       "      <td>d457916b4fdc60154ed93b5dd3e6fd69</td>\n",
       "      <td>329.90</td>\n",
       "      <td>82.48</td>\n",
       "    </tr>\n",
       "    <tr>\n",
       "      <th>74</th>\n",
       "      <td>4afc1dcca5fe8926fc97d60a4497f8ab</td>\n",
       "      <td>68e48e68da1f50f7c5838ea75e3a20dd</td>\n",
       "      <td>delivered</td>\n",
       "      <td>2018-06-18 16:02:23</td>\n",
       "      <td>a659cb33082b851fb87a33af8f0fff29</td>\n",
       "      <td>84.90</td>\n",
       "      <td>13.25</td>\n",
       "    </tr>\n",
       "    <tr>\n",
       "      <th>...</th>\n",
       "      <td>...</td>\n",
       "      <td>...</td>\n",
       "      <td>...</td>\n",
       "      <td>...</td>\n",
       "      <td>...</td>\n",
       "      <td>...</td>\n",
       "      <td>...</td>\n",
       "    </tr>\n",
       "    <tr>\n",
       "      <th>112573</th>\n",
       "      <td>a14f464b2a19d761f7f3f0885d5ea955</td>\n",
       "      <td>dbd4cbb492a12b99c5224014930acc18</td>\n",
       "      <td>delivered</td>\n",
       "      <td>2017-03-26 14:12:46</td>\n",
       "      <td>d34efb58e1930773fcde9b951892b1b1</td>\n",
       "      <td>37.40</td>\n",
       "      <td>16.30</td>\n",
       "    </tr>\n",
       "    <tr>\n",
       "      <th>112595</th>\n",
       "      <td>472acc24324ad4cee482fe4ef5910dc1</td>\n",
       "      <td>83db27f85506380229913b0dfdf5cd18</td>\n",
       "      <td>delivered</td>\n",
       "      <td>2018-04-18 12:35:58</td>\n",
       "      <td>86f2416d4670e4ea3ca5494d043d9f24</td>\n",
       "      <td>149.94</td>\n",
       "      <td>49.15</td>\n",
       "    </tr>\n",
       "    <tr>\n",
       "      <th>112603</th>\n",
       "      <td>6f83c71b6c044fb156d697d4130fe9b5</td>\n",
       "      <td>b3112ca67f3afd4e20cf2ee91fc4f804</td>\n",
       "      <td>delivered</td>\n",
       "      <td>2018-08-02 22:46:54</td>\n",
       "      <td>4f18ca9862f511ecba98258b2194d061</td>\n",
       "      <td>95.00</td>\n",
       "      <td>24.75</td>\n",
       "    </tr>\n",
       "    <tr>\n",
       "      <th>112622</th>\n",
       "      <td>609b9fb8cad4fe0c7b376f77c8ab76ad</td>\n",
       "      <td>e8fd20068b9f7e6ec07068bb7537f781</td>\n",
       "      <td>delivered</td>\n",
       "      <td>2017-08-10 21:21:07</td>\n",
       "      <td>0df37da38a30a713453b03053d60d3f7</td>\n",
       "      <td>356.00</td>\n",
       "      <td>18.12</td>\n",
       "    </tr>\n",
       "    <tr>\n",
       "      <th>112648</th>\n",
       "      <td>b331b74b18dc79bcdf6532d51e1637c1</td>\n",
       "      <td>11c177c8e97725db2631073c19f07b62</td>\n",
       "      <td>delivered</td>\n",
       "      <td>2018-01-08 21:28:27</td>\n",
       "      <td>d1c427060a0f73f6b889a5c7c61f2ac4</td>\n",
       "      <td>179.99</td>\n",
       "      <td>40.59</td>\n",
       "    </tr>\n",
       "  </tbody>\n",
       "</table>\n",
       "<p>10225 rows × 7 columns</p>\n",
       "</div>"
      ],
      "text/plain": [
       "                             customer_id                          order_id order_status order_purchase_timestamp                        product_id   price  freight_value\n",
       "11      494dded5b201313c64ed7f100595b95c  e6ce16cb79ec1d90b1da9085a6118aeb    delivered      2017-05-16 19:41:10  08574b074924071f4e201e151b152b4e   99.00          30.53\n",
       "55      79183cd650e2bb0d475b0067d45946ac  9faeb9b2746b9d7526aef5acb08e2aa0    delivered      2018-07-26 14:39:59  f48eb5c2fde13ca63664f0bb05f55346   60.00          15.52\n",
       "61      684fa6da5134b9e4dab731e00011712d  66e4624ae69e7dc89bd50222b59f581f    delivered      2018-03-09 14:50:15  b37b72d5a56f887725c2862184b8cab8   22.99          22.85\n",
       "71      5dda11942d4f77bee3a46d71e442aec4  f271576bed568e896f99eb710cd3a6f8    delivered      2018-01-07 21:44:54  d457916b4fdc60154ed93b5dd3e6fd69  329.90          82.48\n",
       "74      4afc1dcca5fe8926fc97d60a4497f8ab  68e48e68da1f50f7c5838ea75e3a20dd    delivered      2018-06-18 16:02:23  a659cb33082b851fb87a33af8f0fff29   84.90          13.25\n",
       "...                                  ...                               ...          ...                      ...                               ...     ...            ...\n",
       "112573  a14f464b2a19d761f7f3f0885d5ea955  dbd4cbb492a12b99c5224014930acc18    delivered      2017-03-26 14:12:46  d34efb58e1930773fcde9b951892b1b1   37.40          16.30\n",
       "112595  472acc24324ad4cee482fe4ef5910dc1  83db27f85506380229913b0dfdf5cd18    delivered      2018-04-18 12:35:58  86f2416d4670e4ea3ca5494d043d9f24  149.94          49.15\n",
       "112603  6f83c71b6c044fb156d697d4130fe9b5  b3112ca67f3afd4e20cf2ee91fc4f804    delivered      2018-08-02 22:46:54  4f18ca9862f511ecba98258b2194d061   95.00          24.75\n",
       "112622  609b9fb8cad4fe0c7b376f77c8ab76ad  e8fd20068b9f7e6ec07068bb7537f781    delivered      2017-08-10 21:21:07  0df37da38a30a713453b03053d60d3f7  356.00          18.12\n",
       "112648  b331b74b18dc79bcdf6532d51e1637c1  11c177c8e97725db2631073c19f07b62    delivered      2018-01-08 21:28:27  d1c427060a0f73f6b889a5c7c61f2ac4  179.99          40.59\n",
       "\n",
       "[10225 rows x 7 columns]"
      ]
     },
     "execution_count": 197,
     "metadata": {},
     "output_type": "execute_result"
    }
   ],
   "source": [
    "print(df.count())\n",
    "df[df.duplicated(keep=\"first\")]\n",
    "\n",
    "# We have 2 duplicate records and this can be nigligible \n"
   ]
  },
  {
   "cell_type": "code",
   "execution_count": 198,
   "id": "73cfeb22",
   "metadata": {},
   "outputs": [
    {
     "name": "stdout",
     "output_type": "stream",
     "text": [
      "customer_id                 102425\n",
      "order_id                    102425\n",
      "order_status                102425\n",
      "order_purchase_timestamp    102425\n",
      "product_id                  102425\n",
      "price                       102425\n",
      "freight_value               102425\n",
      "dtype: int64\n"
     ]
    },
    {
     "data": {
      "text/plain": [
       "order_id\n",
       "ca3625898fbd48669d50701aba51cd5f    8\n",
       "7d8f5bfd5aff648220374a2df62e84d5    7\n",
       "77df84f9195be22a4e9cb72ca9e8b4c2    7\n",
       "ad850e69fce9a512ada84086651a2e7d    7\n",
       "aa0b425987bdeae4a29c616a2bc3a08a    6\n",
       "dtype: int64"
      ]
     },
     "execution_count": 198,
     "metadata": {},
     "output_type": "execute_result"
    }
   ],
   "source": [
    "# but we will be drop those\n",
    "df.drop_duplicates(inplace=True) #Only drop duplicates if all columns are exactly the same:\n",
    "\n",
    "#this method was safe to handle / deleted duplicate records \n",
    "# because if their have same order id for purchasing diffrent product and  if we removes the row  based on \n",
    "# order_id  df.drop_duplicated[subset=\"order_id\" , inplace true] then we will loose revenue data \n",
    "#check this\n",
    "print(df.count())\n",
    "df.groupby('order_id').size().sort_values(ascending=False).head()"
   ]
  },
  {
   "cell_type": "code",
   "execution_count": 199,
   "id": "ff10b9e2",
   "metadata": {},
   "outputs": [
    {
     "data": {
      "text/plain": [
       "0         False\n",
       "1         False\n",
       "2         False\n",
       "3         False\n",
       "4         False\n",
       "          ...  \n",
       "112644    False\n",
       "112645    False\n",
       "112646    False\n",
       "112647    False\n",
       "112649    False\n",
       "Length: 102425, dtype: bool"
      ]
     },
     "execution_count": 199,
     "metadata": {},
     "output_type": "execute_result"
    }
   ],
   "source": [
    "df.duplicated()\n",
    "#now here is no duplicated values in this dataset "
   ]
  },
  {
   "cell_type": "markdown",
   "id": "b13bc003",
   "metadata": {},
   "source": [
    "## Handeling Datatypes "
   ]
  },
  {
   "cell_type": "code",
   "execution_count": 200,
   "id": "61587860",
   "metadata": {},
   "outputs": [
    {
     "name": "stdout",
     "output_type": "stream",
     "text": [
      "<class 'pandas.core.frame.DataFrame'>\n",
      "Index: 102425 entries, 0 to 112649\n",
      "Data columns (total 7 columns):\n",
      " #   Column                    Non-Null Count   Dtype  \n",
      "---  ------                    --------------   -----  \n",
      " 0   customer_id               102425 non-null  object \n",
      " 1   order_id                  102425 non-null  object \n",
      " 2   order_status              102425 non-null  object \n",
      " 3   order_purchase_timestamp  102425 non-null  object \n",
      " 4   product_id                102425 non-null  object \n",
      " 5   price                     102425 non-null  float64\n",
      " 6   freight_value             102425 non-null  float64\n",
      "dtypes: float64(2), object(5)\n",
      "memory usage: 6.3+ MB\n"
     ]
    }
   ],
   "source": [
    "df.info()\n",
    "# here we see the order_purchase_timestamp feture have object datatype we need to convert this to datetime \n",
    "df[\"order_purchase_timestamp\"]= pd.to_datetime(df[\"order_purchase_timestamp\"])"
   ]
  },
  {
   "cell_type": "code",
   "execution_count": 201,
   "id": "60318441",
   "metadata": {},
   "outputs": [
    {
     "name": "stdout",
     "output_type": "stream",
     "text": [
      "<class 'pandas.core.frame.DataFrame'>\n",
      "Index: 102425 entries, 0 to 112649\n",
      "Data columns (total 7 columns):\n",
      " #   Column                    Non-Null Count   Dtype         \n",
      "---  ------                    --------------   -----         \n",
      " 0   customer_id               102425 non-null  object        \n",
      " 1   order_id                  102425 non-null  object        \n",
      " 2   order_status              102425 non-null  object        \n",
      " 3   order_purchase_timestamp  102425 non-null  datetime64[ns]\n",
      " 4   product_id                102425 non-null  object        \n",
      " 5   price                     102425 non-null  float64       \n",
      " 6   freight_value             102425 non-null  float64       \n",
      "dtypes: datetime64[ns](1), float64(2), object(4)\n",
      "memory usage: 6.3+ MB\n"
     ]
    }
   ],
   "source": [
    "df.info()\n",
    "#now order_purchase_timestamp   have  datetime64[ns]\n"
   ]
  },
  {
   "cell_type": "markdown",
   "id": "5b8eea81",
   "metadata": {},
   "source": [
    "## Generate descriptive statistics-\n",
    "    Mean, median, mode, min, max, range, IQR, standard deviation, variance."
   ]
  },
  {
   "cell_type": "code",
   "execution_count": 202,
   "id": "ecb571af",
   "metadata": {},
   "outputs": [
    {
     "data": {
      "text/html": [
       "<div>\n",
       "<style scoped>\n",
       "    .dataframe tbody tr th:only-of-type {\n",
       "        vertical-align: middle;\n",
       "    }\n",
       "\n",
       "    .dataframe tbody tr th {\n",
       "        vertical-align: top;\n",
       "    }\n",
       "\n",
       "    .dataframe thead th {\n",
       "        text-align: right;\n",
       "    }\n",
       "</style>\n",
       "<table border=\"1\" class=\"dataframe\">\n",
       "  <thead>\n",
       "    <tr style=\"text-align: right;\">\n",
       "      <th></th>\n",
       "      <th>count</th>\n",
       "      <th>mean</th>\n",
       "      <th>std</th>\n",
       "      <th>min</th>\n",
       "      <th>25%</th>\n",
       "      <th>50%</th>\n",
       "      <th>75%</th>\n",
       "      <th>max</th>\n",
       "    </tr>\n",
       "  </thead>\n",
       "  <tbody>\n",
       "    <tr>\n",
       "      <th>price</th>\n",
       "      <td>102425.0</td>\n",
       "      <td>124.422006</td>\n",
       "      <td>188.926084</td>\n",
       "      <td>0.85</td>\n",
       "      <td>40.00</td>\n",
       "      <td>78.80</td>\n",
       "      <td>139.00</td>\n",
       "      <td>6735.00</td>\n",
       "    </tr>\n",
       "    <tr>\n",
       "      <th>freight_value</th>\n",
       "      <td>102425.0</td>\n",
       "      <td>20.111152</td>\n",
       "      <td>15.884700</td>\n",
       "      <td>0.00</td>\n",
       "      <td>13.14</td>\n",
       "      <td>16.32</td>\n",
       "      <td>21.22</td>\n",
       "      <td>409.68</td>\n",
       "    </tr>\n",
       "  </tbody>\n",
       "</table>\n",
       "</div>"
      ],
      "text/plain": [
       "                  count        mean         std   min    25%    50%     75%      max\n",
       "price          102425.0  124.422006  188.926084  0.85  40.00  78.80  139.00  6735.00\n",
       "freight_value  102425.0   20.111152   15.884700  0.00  13.14  16.32   21.22   409.68"
      ]
     },
     "execution_count": 202,
     "metadata": {},
     "output_type": "execute_result"
    }
   ],
   "source": [
    "# First we can find summery of numeric coulms \n",
    "df[['price', 'freight_value']].describe().T\n",
    "# print(df[['price', 'freight_value']].mean().T ,\"\\n\")\n",
    "# print(df[['price', 'freight_value']].median().T ,\"\\n\")\n",
    "# print(df[['price', 'freight_value']].mode().T ,\"\\n\")\n"
   ]
  },
  {
   "cell_type": "code",
   "execution_count": 203,
   "id": "926de6a1",
   "metadata": {},
   "outputs": [
    {
     "data": {
      "text/plain": [
       "price            6734.15\n",
       "freight_value     409.68\n",
       "dtype: float64"
      ]
     },
     "execution_count": 203,
     "metadata": {},
     "output_type": "execute_result"
    }
   ],
   "source": [
    "# Finds Range \n",
    "range_ = df[['price', 'freight_value']].max() - df[['price', 'freight_value']].min().T\n",
    "range_"
   ]
  },
  {
   "cell_type": "markdown",
   "id": "c0151bdc",
   "metadata": {},
   "source": [
    " ## Standard Deviation & Variance"
   ]
  },
  {
   "cell_type": "code",
   "execution_count": 204,
   "id": "1e8141f8",
   "metadata": {},
   "outputs": [
    {
     "name": "stdout",
     "output_type": "stream",
     "text": [
      "Standerd Deviation \n",
      "\n",
      "price            188.926084\n",
      "freight_value     15.884700\n",
      "dtype: float64 \n",
      "\n",
      "Varience \n",
      "\n",
      "price            35693.065273\n",
      "freight_value      252.323679\n",
      "dtype: float64 \n",
      "\n"
     ]
    }
   ],
   "source": [
    "# Standard Deviation & Variance\n",
    "print(\"Standerd Deviation \\n\")\n",
    "print(df[['price','freight_value']].std(),\"\\n\")\n",
    "\n",
    "print(\"Varience \\n\" )\n",
    "print(df[['price','freight_value']].var(),\"\\n\")"
   ]
  },
  {
   "cell_type": "markdown",
   "id": "11d1adde",
   "metadata": {},
   "source": [
    "## IQR (Interquartile Range)\n"
   ]
  },
  {
   "cell_type": "code",
   "execution_count": 205,
   "id": "7134b882",
   "metadata": {},
   "outputs": [
    {
     "data": {
      "text/plain": [
       "np.float64(99.0)"
      ]
     },
     "execution_count": 205,
     "metadata": {},
     "output_type": "execute_result"
    }
   ],
   "source": [
    "Q1 = df['price'].quantile(0.25)\n",
    "Q3 = df['price'].quantile(0.75)\n",
    "IQR = Q3 - Q1    \n",
    "IQR\n",
    "\n"
   ]
  },
  {
   "cell_type": "markdown",
   "id": "641b207a",
   "metadata": {},
   "source": [
    "## visualizations"
   ]
  },
  {
   "cell_type": "markdown",
   "id": "e4f4528b",
   "metadata": {},
   "source": [
    "### Histogram of product prices"
   ]
  },
  {
   "cell_type": "code",
   "execution_count": 342,
   "id": "3d708059",
   "metadata": {},
   "outputs": [
    {
     "data": {
      "image/png": "[encoded data removed]",
      "text/plain": [
       "<Figure size 1000x300 with 1 Axes>"
      ]
     },
     "metadata": {},
     "output_type": "display_data"
    }
   ],
   "source": [
    "data = df[\"price\"]\n",
    "plt.figure(figsize=(10, 3)) \n",
    "plt.hist(data, bins=50, color='orange', edgecolor='black' ,orientation=\"vertical\",rwidth=100)  # add bins and style\n",
    "plt.title(\"Distribution of Product Prices\")\n",
    "plt.xlabel(\"Product Price\")\n",
    "plt.ylabel(\"Frequency\")\n",
    "plt.grid(True)\n",
    "plt.tight_layout()\n",
    "plt.show()\n",
    "\n",
    "\n"
   ]
  },
  {
   "cell_type": "code",
   "execution_count": 343,
   "id": "b8106e5f",
   "metadata": {},
   "outputs": [
    {
     "data": {
      "text/plain": [
       "<matplotlib.legend.Legend at 0x196bd277d90>"
      ]
     },
     "execution_count": 343,
     "metadata": {},
     "output_type": "execute_result"
    },
    {
     "data": {
      "image/png": "[encoded data removed]",
      "text/plain": [
       "<Figure size 1000x300 with 1 Axes>"
      ]
     },
     "metadata": {},
     "output_type": "display_data"
    }
   ],
   "source": [
    "#Using Seaborn \n",
    "plt.figure(figsize=(10,3))\n",
    "sns.histplot(data=df , x=data , bins=50,color=\"orange\",binwidth=500)\n",
    "mean_price = data.mean()\n",
    "median_price =data.median()\n",
    "plt.axvline(mean_price,color=\"red\" , label=\"mean price\" ,linewidth=1)\n",
    "plt.axvline(median_price, color=\"black\",label=\"median price\")\n",
    "plt.legend()\n"
   ]
  },
  {
   "cell_type": "markdown",
   "id": "9c54296c",
   "metadata": {},
   "source": [
    "## Boxplot of freight value.\n",
    "\n",
    "\n"
   ]
  },
  {
   "cell_type": "code",
   "execution_count": 234,
   "id": "faed280b",
   "metadata": {},
   "outputs": [
    {
     "data": {
      "text/plain": [
       "Text(0.5, 1.0, 'Fright Value')"
      ]
     },
     "execution_count": 234,
     "metadata": {},
     "output_type": "execute_result"
    },
    {
     "data": {
      "image/png": "[encoded data removed]",
      "text/plain": [
       "<Figure size 640x480 with 1 Axes>"
      ]
     },
     "metadata": {},
     "output_type": "display_data"
    }
   ],
   "source": [
    "plt.boxplot(data , vert=True,showmeans=True)\n",
    "plt.title(\"Fright Value\")"
   ]
  },
  {
   "cell_type": "markdown",
   "id": "a54a7ee9",
   "metadata": {},
   "source": [
    "## Count plot of order statuses"
   ]
  },
  {
   "cell_type": "code",
   "execution_count": 240,
   "id": "6db39ac1",
   "metadata": {},
   "outputs": [
    {
     "data": {
      "image/png": "[encoded data removed]",
      "text/plain": [
       "<Figure size 1000x400 with 1 Axes>"
      ]
     },
     "metadata": {},
     "output_type": "display_data"
    }
   ],
   "source": [
    "import matplotlib.pyplot as plt\n",
    "import seaborn as sns\n",
    "\n",
    "plt.figure(figsize=(10, 4))\n",
    "sns.countplot(data=df, x=\"order_status\", order=df[\"order_status\"].value_counts().index)\n",
    "plt.title(\"Order Status Count\")\n",
    "plt.xlabel(\"Order Status\")\n",
    "plt.ylabel(\"Count\")\n",
    "plt.xticks(rotation=45)\n",
    "plt.tight_layout()\n",
    "plt.show()\n"
   ]
  },
  {
   "cell_type": "markdown",
   "id": "db6fb9e0",
   "metadata": {},
   "source": [
    "## Distribution of number of items/order\t\n"
   ]
  },
  {
   "cell_type": "code",
   "execution_count": 249,
   "id": "2916ac0c",
   "metadata": {},
   "outputs": [
    {
     "data": {
      "image/png": "[encoded data removed]",
      "text/plain": [
       "<Figure size 640x480 with 1 Axes>"
      ]
     },
     "metadata": {},
     "output_type": "display_data"
    }
   ],
   "source": [
    "items_per_order = df.groupby(\"order_id\")[\"product_id\"].count()\n",
    "items_per_order\n",
    "\n",
    "sns.histplot(items_per_order, bins=range(1, items_per_order.max() + 1), kde=False)\n",
    "plt.title(\"Distribution of Number of Items per Order\")\n",
    "plt.xlabel(\"Number of Items in an Order\")\n",
    "plt.ylabel(\"Number of Orders\")\n",
    "plt.xticks(range(1, items_per_order.max() + 1))\n",
    "plt.tight_layout()\n",
    "plt.show()\n"
   ]
  },
  {
   "cell_type": "markdown",
   "id": "b821e11f",
   "metadata": {},
   "source": [
    " ## Customer Segmentation & Payment Analysis\n",
    "        Recency, Frequency, Monetary"
   ]
  },
  {
   "cell_type": "code",
   "execution_count": 282,
   "id": "493fc999",
   "metadata": {},
   "outputs": [],
   "source": [
    "#Calculate Recency\n",
    "df_recency =df\n",
    "df_recency =df.groupby(by=\"customer_id\", as_index=False)[\"order_purchase_timestamp\"].max()\n",
    "df_recency .columns=['customer_id',\"order_purchase_timestamp\"]\n",
    "recent_date =df_recency [\"order_purchase_timestamp\"].max() \n",
    "df_recency [\"Recency\"]=df_recency ['order_purchase_timestamp'].apply(lambda x:(recent_date-x).days)\n",
    "\n",
    "\n",
    "\n",
    "\n"
   ]
  },
  {
   "cell_type": "code",
   "execution_count": null,
   "id": "363119a4",
   "metadata": {},
   "outputs": [
    {
     "data": {
      "text/html": [
       "<div>\n",
       "<style scoped>\n",
       "    .dataframe tbody tr th:only-of-type {\n",
       "        vertical-align: middle;\n",
       "    }\n",
       "\n",
       "    .dataframe tbody tr th {\n",
       "        vertical-align: top;\n",
       "    }\n",
       "\n",
       "    .dataframe thead th {\n",
       "        text-align: right;\n",
       "    }\n",
       "</style>\n",
       "<table border=\"1\" class=\"dataframe\">\n",
       "  <thead>\n",
       "    <tr style=\"text-align: right;\">\n",
       "      <th></th>\n",
       "      <th>customer_id</th>\n",
       "      <th>Frequency</th>\n",
       "    </tr>\n",
       "  </thead>\n",
       "  <tbody>\n",
       "    <tr>\n",
       "      <th>0</th>\n",
       "      <td>00012a2ce6f8dcda20d059ce98491703</td>\n",
       "      <td>1</td>\n",
       "    </tr>\n",
       "    <tr>\n",
       "      <th>1</th>\n",
       "      <td>000161a058600d5901f007fab4c27140</td>\n",
       "      <td>1</td>\n",
       "    </tr>\n",
       "    <tr>\n",
       "      <th>2</th>\n",
       "      <td>0001fd6190edaaf884bcaf3d49edf079</td>\n",
       "      <td>1</td>\n",
       "    </tr>\n",
       "    <tr>\n",
       "      <th>3</th>\n",
       "      <td>0002414f95344307404f0ace7a26f1d5</td>\n",
       "      <td>1</td>\n",
       "    </tr>\n",
       "    <tr>\n",
       "      <th>4</th>\n",
       "      <td>000379cdec625522490c315e70c7a9fb</td>\n",
       "      <td>1</td>\n",
       "    </tr>\n",
       "    <tr>\n",
       "      <th>...</th>\n",
       "      <td>...</td>\n",
       "      <td>...</td>\n",
       "    </tr>\n",
       "    <tr>\n",
       "      <th>98661</th>\n",
       "      <td>fffcb937e9dd47a13f05ecb8290f4d3e</td>\n",
       "      <td>1</td>\n",
       "    </tr>\n",
       "    <tr>\n",
       "      <th>98662</th>\n",
       "      <td>fffecc9f79fd8c764f843e9951b11341</td>\n",
       "      <td>1</td>\n",
       "    </tr>\n",
       "    <tr>\n",
       "      <th>98663</th>\n",
       "      <td>fffeda5b6d849fbd39689bb92087f431</td>\n",
       "      <td>1</td>\n",
       "    </tr>\n",
       "    <tr>\n",
       "      <th>98664</th>\n",
       "      <td>ffff42319e9b2d713724ae527742af25</td>\n",
       "      <td>1</td>\n",
       "    </tr>\n",
       "    <tr>\n",
       "      <th>98665</th>\n",
       "      <td>ffffa3172527f765de70084a7e53aae8</td>\n",
       "      <td>1</td>\n",
       "    </tr>\n",
       "  </tbody>\n",
       "</table>\n",
       "<p>98666 rows × 2 columns</p>\n",
       "</div>"
      ],
      "text/plain": [
       "                            customer_id  Frequency\n",
       "0      00012a2ce6f8dcda20d059ce98491703          1\n",
       "1      000161a058600d5901f007fab4c27140          1\n",
       "2      0001fd6190edaaf884bcaf3d49edf079          1\n",
       "3      0002414f95344307404f0ace7a26f1d5          1\n",
       "4      000379cdec625522490c315e70c7a9fb          1\n",
       "...                                 ...        ...\n",
       "98661  fffcb937e9dd47a13f05ecb8290f4d3e          1\n",
       "98662  fffecc9f79fd8c764f843e9951b11341          1\n",
       "98663  fffeda5b6d849fbd39689bb92087f431          1\n",
       "98664  ffff42319e9b2d713724ae527742af25          1\n",
       "98665  ffffa3172527f765de70084a7e53aae8          1\n",
       "\n",
       "[98666 rows x 2 columns]"
      ]
     },
     "execution_count": 272,
     "metadata": {},
     "output_type": "execute_result"
    }
   ],
   "source": [
    "#Calculate Frequency\n",
    "df_frequency=df\n",
    "df_frequency=df.groupby(by='customer_id', as_index=False)[\"order_purchase_timestamp\"].count()\n",
    "df_frequency.columns=['customer_id','Frequency']\n",
    "df_frequency\n",
    "\n",
    "\n"
   ]
  },
  {
   "cell_type": "code",
   "execution_count": 276,
   "id": "8a654de8",
   "metadata": {},
   "outputs": [
    {
     "data": {
      "text/html": [
       "<div>\n",
       "<style scoped>\n",
       "    .dataframe tbody tr th:only-of-type {\n",
       "        vertical-align: middle;\n",
       "    }\n",
       "\n",
       "    .dataframe tbody tr th {\n",
       "        vertical-align: top;\n",
       "    }\n",
       "\n",
       "    .dataframe thead th {\n",
       "        text-align: right;\n",
       "    }\n",
       "</style>\n",
       "<table border=\"1\" class=\"dataframe\">\n",
       "  <thead>\n",
       "    <tr style=\"text-align: right;\">\n",
       "      <th></th>\n",
       "      <th>customer_id</th>\n",
       "      <th>Monetary</th>\n",
       "    </tr>\n",
       "  </thead>\n",
       "  <tbody>\n",
       "    <tr>\n",
       "      <th>0</th>\n",
       "      <td>00012a2ce6f8dcda20d059ce98491703</td>\n",
       "      <td>89.80</td>\n",
       "    </tr>\n",
       "    <tr>\n",
       "      <th>1</th>\n",
       "      <td>000161a058600d5901f007fab4c27140</td>\n",
       "      <td>54.90</td>\n",
       "    </tr>\n",
       "    <tr>\n",
       "      <th>2</th>\n",
       "      <td>0001fd6190edaaf884bcaf3d49edf079</td>\n",
       "      <td>179.99</td>\n",
       "    </tr>\n",
       "    <tr>\n",
       "      <th>3</th>\n",
       "      <td>0002414f95344307404f0ace7a26f1d5</td>\n",
       "      <td>149.90</td>\n",
       "    </tr>\n",
       "    <tr>\n",
       "      <th>4</th>\n",
       "      <td>000379cdec625522490c315e70c7a9fb</td>\n",
       "      <td>93.00</td>\n",
       "    </tr>\n",
       "  </tbody>\n",
       "</table>\n",
       "</div>"
      ],
      "text/plain": [
       "                        customer_id  Monetary\n",
       "0  00012a2ce6f8dcda20d059ce98491703     89.80\n",
       "1  000161a058600d5901f007fab4c27140     54.90\n",
       "2  0001fd6190edaaf884bcaf3d49edf079    179.99\n",
       "3  0002414f95344307404f0ace7a26f1d5    149.90\n",
       "4  000379cdec625522490c315e70c7a9fb     93.00"
      ]
     },
     "execution_count": 276,
     "metadata": {},
     "output_type": "execute_result"
    }
   ],
   "source": [
    " # Calculate Monetary Value\n",
    " \n",
    "df['Total'] = df['price']  # Total spent by each customer\n",
    "df_monetary = df.groupby(by='customer_id', as_index=False)['Total'].sum()\n",
    "df_monetary.columns = ['customer_id', 'Monetary']\n",
    "df_monetary.head()"
   ]
  },
  {
   "cell_type": "code",
   "execution_count": 284,
   "id": "e9bab375",
   "metadata": {},
   "outputs": [],
   "source": [
    "#MEarge all  dataframe \n",
    "df_rfm = pd.merge(df_recency,df_frequency,on=\"customer_id\")\n"
   ]
  },
  {
   "cell_type": "code",
   "execution_count": 285,
   "id": "f1ded282",
   "metadata": {},
   "outputs": [
    {
     "data": {
      "text/html": [
       "<div>\n",
       "<style scoped>\n",
       "    .dataframe tbody tr th:only-of-type {\n",
       "        vertical-align: middle;\n",
       "    }\n",
       "\n",
       "    .dataframe tbody tr th {\n",
       "        vertical-align: top;\n",
       "    }\n",
       "\n",
       "    .dataframe thead th {\n",
       "        text-align: right;\n",
       "    }\n",
       "</style>\n",
       "<table border=\"1\" class=\"dataframe\">\n",
       "  <thead>\n",
       "    <tr style=\"text-align: right;\">\n",
       "      <th></th>\n",
       "      <th>customer_id</th>\n",
       "      <th>order_purchase_timestamp</th>\n",
       "      <th>Recency</th>\n",
       "      <th>Frequency</th>\n",
       "      <th>Monetary</th>\n",
       "    </tr>\n",
       "  </thead>\n",
       "  <tbody>\n",
       "    <tr>\n",
       "      <th>0</th>\n",
       "      <td>00012a2ce6f8dcda20d059ce98491703</td>\n",
       "      <td>2017-11-14 16:08:26</td>\n",
       "      <td>292</td>\n",
       "      <td>1</td>\n",
       "      <td>89.80</td>\n",
       "    </tr>\n",
       "    <tr>\n",
       "      <th>1</th>\n",
       "      <td>000161a058600d5901f007fab4c27140</td>\n",
       "      <td>2017-07-16 09:40:32</td>\n",
       "      <td>413</td>\n",
       "      <td>1</td>\n",
       "      <td>54.90</td>\n",
       "    </tr>\n",
       "    <tr>\n",
       "      <th>2</th>\n",
       "      <td>0001fd6190edaaf884bcaf3d49edf079</td>\n",
       "      <td>2017-02-28 11:06:43</td>\n",
       "      <td>551</td>\n",
       "      <td>1</td>\n",
       "      <td>179.99</td>\n",
       "    </tr>\n",
       "    <tr>\n",
       "      <th>3</th>\n",
       "      <td>0002414f95344307404f0ace7a26f1d5</td>\n",
       "      <td>2017-08-16 13:09:20</td>\n",
       "      <td>382</td>\n",
       "      <td>1</td>\n",
       "      <td>149.90</td>\n",
       "    </tr>\n",
       "    <tr>\n",
       "      <th>4</th>\n",
       "      <td>000379cdec625522490c315e70c7a9fb</td>\n",
       "      <td>2018-04-02 13:42:17</td>\n",
       "      <td>153</td>\n",
       "      <td>1</td>\n",
       "      <td>93.00</td>\n",
       "    </tr>\n",
       "    <tr>\n",
       "      <th>...</th>\n",
       "      <td>...</td>\n",
       "      <td>...</td>\n",
       "      <td>...</td>\n",
       "      <td>...</td>\n",
       "      <td>...</td>\n",
       "    </tr>\n",
       "    <tr>\n",
       "      <th>98661</th>\n",
       "      <td>fffcb937e9dd47a13f05ecb8290f4d3e</td>\n",
       "      <td>2018-03-17 00:55:27</td>\n",
       "      <td>170</td>\n",
       "      <td>1</td>\n",
       "      <td>78.00</td>\n",
       "    </tr>\n",
       "    <tr>\n",
       "      <th>98662</th>\n",
       "      <td>fffecc9f79fd8c764f843e9951b11341</td>\n",
       "      <td>2018-03-29 16:59:26</td>\n",
       "      <td>157</td>\n",
       "      <td>1</td>\n",
       "      <td>54.90</td>\n",
       "    </tr>\n",
       "    <tr>\n",
       "      <th>98663</th>\n",
       "      <td>fffeda5b6d849fbd39689bb92087f431</td>\n",
       "      <td>2018-05-22 13:36:02</td>\n",
       "      <td>103</td>\n",
       "      <td>1</td>\n",
       "      <td>47.90</td>\n",
       "    </tr>\n",
       "    <tr>\n",
       "      <th>98664</th>\n",
       "      <td>ffff42319e9b2d713724ae527742af25</td>\n",
       "      <td>2018-06-13 16:57:05</td>\n",
       "      <td>81</td>\n",
       "      <td>1</td>\n",
       "      <td>199.90</td>\n",
       "    </tr>\n",
       "    <tr>\n",
       "      <th>98665</th>\n",
       "      <td>ffffa3172527f765de70084a7e53aae8</td>\n",
       "      <td>2017-09-02 11:53:32</td>\n",
       "      <td>365</td>\n",
       "      <td>1</td>\n",
       "      <td>10.90</td>\n",
       "    </tr>\n",
       "  </tbody>\n",
       "</table>\n",
       "<p>98666 rows × 5 columns</p>\n",
       "</div>"
      ],
      "text/plain": [
       "                            customer_id order_purchase_timestamp  Recency  Frequency  Monetary\n",
       "0      00012a2ce6f8dcda20d059ce98491703      2017-11-14 16:08:26      292          1     89.80\n",
       "1      000161a058600d5901f007fab4c27140      2017-07-16 09:40:32      413          1     54.90\n",
       "2      0001fd6190edaaf884bcaf3d49edf079      2017-02-28 11:06:43      551          1    179.99\n",
       "3      0002414f95344307404f0ace7a26f1d5      2017-08-16 13:09:20      382          1    149.90\n",
       "4      000379cdec625522490c315e70c7a9fb      2018-04-02 13:42:17      153          1     93.00\n",
       "...                                 ...                      ...      ...        ...       ...\n",
       "98661  fffcb937e9dd47a13f05ecb8290f4d3e      2018-03-17 00:55:27      170          1     78.00\n",
       "98662  fffecc9f79fd8c764f843e9951b11341      2018-03-29 16:59:26      157          1     54.90\n",
       "98663  fffeda5b6d849fbd39689bb92087f431      2018-05-22 13:36:02      103          1     47.90\n",
       "98664  ffff42319e9b2d713724ae527742af25      2018-06-13 16:57:05       81          1    199.90\n",
       "98665  ffffa3172527f765de70084a7e53aae8      2017-09-02 11:53:32      365          1     10.90\n",
       "\n",
       "[98666 rows x 5 columns]"
      ]
     },
     "execution_count": 285,
     "metadata": {},
     "output_type": "execute_result"
    }
   ],
   "source": [
    "#second mearge\n",
    "df_rfm=pd.merge(df_rfm,df_monetary ,on=\"customer_id\")\n",
    "df_rfm"
   ]
  },
  {
   "cell_type": "code",
   "execution_count": 286,
   "id": "cc45b922",
   "metadata": {},
   "outputs": [],
   "source": [
    "df_rfm['R_rank'] = df_rfm['Recency'].rank(ascending=False)\n",
    "df_rfm['F_rank'] = df_rfm['Frequency'].rank(ascending=True)\n",
    "df_rfm['M_rank'] = df_rfm['Monetary'].rank(ascending=True)\n",
    "df_rfm['R_rank_norm'] = (df_rfm['R_rank'] / df_rfm['R_rank'].max()) * 100\n",
    "df_rfm['F_rank_norm'] = (df_rfm['F_rank'] / df_rfm['F_rank'].max()) * 100\n",
    "df_rfm['M_rank_norm'] = (df_rfm['M_rank'] / df_rfm['M_rank'].max()) * 100"
   ]
  },
  {
   "cell_type": "code",
   "execution_count": 287,
   "id": "f445bd9d",
   "metadata": {},
   "outputs": [
    {
     "data": {
      "text/html": [
       "<div>\n",
       "<style scoped>\n",
       "    .dataframe tbody tr th:only-of-type {\n",
       "        vertical-align: middle;\n",
       "    }\n",
       "\n",
       "    .dataframe tbody tr th {\n",
       "        vertical-align: top;\n",
       "    }\n",
       "\n",
       "    .dataframe thead th {\n",
       "        text-align: right;\n",
       "    }\n",
       "</style>\n",
       "<table border=\"1\" class=\"dataframe\">\n",
       "  <thead>\n",
       "    <tr style=\"text-align: right;\">\n",
       "      <th></th>\n",
       "      <th>customer_id</th>\n",
       "      <th>order_purchase_timestamp</th>\n",
       "      <th>Recency</th>\n",
       "      <th>Frequency</th>\n",
       "      <th>Monetary</th>\n",
       "      <th>R_rank</th>\n",
       "      <th>F_rank</th>\n",
       "      <th>M_rank</th>\n",
       "      <th>R_rank_norm</th>\n",
       "      <th>F_rank_norm</th>\n",
       "      <th>M_rank_norm</th>\n",
       "    </tr>\n",
       "  </thead>\n",
       "  <tbody>\n",
       "    <tr>\n",
       "      <th>0</th>\n",
       "      <td>00012a2ce6f8dcda20d059ce98491703</td>\n",
       "      <td>2017-11-14 16:08:26</td>\n",
       "      <td>292</td>\n",
       "      <td>1</td>\n",
       "      <td>89.80</td>\n",
       "      <td>33955.0</td>\n",
       "      <td>47715.5</td>\n",
       "      <td>53074.0</td>\n",
       "      <td>34.414084</td>\n",
       "      <td>48.360631</td>\n",
       "      <td>53.791580</td>\n",
       "    </tr>\n",
       "    <tr>\n",
       "      <th>1</th>\n",
       "      <td>000161a058600d5901f007fab4c27140</td>\n",
       "      <td>2017-07-16 09:40:32</td>\n",
       "      <td>413</td>\n",
       "      <td>1</td>\n",
       "      <td>54.90</td>\n",
       "      <td>16650.0</td>\n",
       "      <td>47715.5</td>\n",
       "      <td>33529.5</td>\n",
       "      <td>16.875114</td>\n",
       "      <td>48.360631</td>\n",
       "      <td>33.982831</td>\n",
       "    </tr>\n",
       "    <tr>\n",
       "      <th>2</th>\n",
       "      <td>0001fd6190edaaf884bcaf3d49edf079</td>\n",
       "      <td>2017-02-28 11:06:43</td>\n",
       "      <td>551</td>\n",
       "      <td>1</td>\n",
       "      <td>179.99</td>\n",
       "      <td>2812.5</td>\n",
       "      <td>47715.5</td>\n",
       "      <td>81902.5</td>\n",
       "      <td>2.850526</td>\n",
       "      <td>48.360631</td>\n",
       "      <td>83.009851</td>\n",
       "    </tr>\n",
       "    <tr>\n",
       "      <th>3</th>\n",
       "      <td>0002414f95344307404f0ace7a26f1d5</td>\n",
       "      <td>2017-08-16 13:09:20</td>\n",
       "      <td>382</td>\n",
       "      <td>1</td>\n",
       "      <td>149.90</td>\n",
       "      <td>20927.0</td>\n",
       "      <td>47715.5</td>\n",
       "      <td>75766.5</td>\n",
       "      <td>21.209941</td>\n",
       "      <td>48.360631</td>\n",
       "      <td>76.790890</td>\n",
       "    </tr>\n",
       "    <tr>\n",
       "      <th>4</th>\n",
       "      <td>000379cdec625522490c315e70c7a9fb</td>\n",
       "      <td>2018-04-02 13:42:17</td>\n",
       "      <td>153</td>\n",
       "      <td>1</td>\n",
       "      <td>93.00</td>\n",
       "      <td>66363.5</td>\n",
       "      <td>47715.5</td>\n",
       "      <td>55535.0</td>\n",
       "      <td>67.260759</td>\n",
       "      <td>48.360631</td>\n",
       "      <td>56.285853</td>\n",
       "    </tr>\n",
       "    <tr>\n",
       "      <th>...</th>\n",
       "      <td>...</td>\n",
       "      <td>...</td>\n",
       "      <td>...</td>\n",
       "      <td>...</td>\n",
       "      <td>...</td>\n",
       "      <td>...</td>\n",
       "      <td>...</td>\n",
       "      <td>...</td>\n",
       "      <td>...</td>\n",
       "      <td>...</td>\n",
       "      <td>...</td>\n",
       "    </tr>\n",
       "    <tr>\n",
       "      <th>98661</th>\n",
       "      <td>fffcb937e9dd47a13f05ecb8290f4d3e</td>\n",
       "      <td>2018-03-17 00:55:27</td>\n",
       "      <td>170</td>\n",
       "      <td>1</td>\n",
       "      <td>78.00</td>\n",
       "      <td>62522.5</td>\n",
       "      <td>47715.5</td>\n",
       "      <td>47440.5</td>\n",
       "      <td>63.367827</td>\n",
       "      <td>48.360631</td>\n",
       "      <td>48.081913</td>\n",
       "    </tr>\n",
       "    <tr>\n",
       "      <th>98662</th>\n",
       "      <td>fffecc9f79fd8c764f843e9951b11341</td>\n",
       "      <td>2018-03-29 16:59:26</td>\n",
       "      <td>157</td>\n",
       "      <td>1</td>\n",
       "      <td>54.90</td>\n",
       "      <td>65583.0</td>\n",
       "      <td>47715.5</td>\n",
       "      <td>33529.5</td>\n",
       "      <td>66.469706</td>\n",
       "      <td>48.360631</td>\n",
       "      <td>33.982831</td>\n",
       "    </tr>\n",
       "    <tr>\n",
       "      <th>98663</th>\n",
       "      <td>fffeda5b6d849fbd39689bb92087f431</td>\n",
       "      <td>2018-05-22 13:36:02</td>\n",
       "      <td>103</td>\n",
       "      <td>1</td>\n",
       "      <td>47.90</td>\n",
       "      <td>78582.5</td>\n",
       "      <td>47715.5</td>\n",
       "      <td>27373.0</td>\n",
       "      <td>79.644964</td>\n",
       "      <td>48.360631</td>\n",
       "      <td>27.743093</td>\n",
       "    </tr>\n",
       "    <tr>\n",
       "      <th>98664</th>\n",
       "      <td>ffff42319e9b2d713724ae527742af25</td>\n",
       "      <td>2018-06-13 16:57:05</td>\n",
       "      <td>81</td>\n",
       "      <td>1</td>\n",
       "      <td>199.90</td>\n",
       "      <td>82433.5</td>\n",
       "      <td>47715.5</td>\n",
       "      <td>84811.5</td>\n",
       "      <td>83.548031</td>\n",
       "      <td>48.360631</td>\n",
       "      <td>85.958182</td>\n",
       "    </tr>\n",
       "    <tr>\n",
       "      <th>98665</th>\n",
       "      <td>ffffa3172527f765de70084a7e53aae8</td>\n",
       "      <td>2017-09-02 11:53:32</td>\n",
       "      <td>365</td>\n",
       "      <td>1</td>\n",
       "      <td>10.90</td>\n",
       "      <td>23222.0</td>\n",
       "      <td>47715.5</td>\n",
       "      <td>892.5</td>\n",
       "      <td>23.535970</td>\n",
       "      <td>48.360631</td>\n",
       "      <td>0.904567</td>\n",
       "    </tr>\n",
       "  </tbody>\n",
       "</table>\n",
       "<p>98666 rows × 11 columns</p>\n",
       "</div>"
      ],
      "text/plain": [
       "                            customer_id order_purchase_timestamp  Recency  Frequency  Monetary   R_rank   F_rank   M_rank  R_rank_norm  F_rank_norm  M_rank_norm\n",
       "0      00012a2ce6f8dcda20d059ce98491703      2017-11-14 16:08:26      292          1     89.80  33955.0  47715.5  53074.0    34.414084    48.360631    53.791580\n",
       "1      000161a058600d5901f007fab4c27140      2017-07-16 09:40:32      413          1     54.90  16650.0  47715.5  33529.5    16.875114    48.360631    33.982831\n",
       "2      0001fd6190edaaf884bcaf3d49edf079      2017-02-28 11:06:43      551          1    179.99   2812.5  47715.5  81902.5     2.850526    48.360631    83.009851\n",
       "3      0002414f95344307404f0ace7a26f1d5      2017-08-16 13:09:20      382          1    149.90  20927.0  47715.5  75766.5    21.209941    48.360631    76.790890\n",
       "4      000379cdec625522490c315e70c7a9fb      2018-04-02 13:42:17      153          1     93.00  66363.5  47715.5  55535.0    67.260759    48.360631    56.285853\n",
       "...                                 ...                      ...      ...        ...       ...      ...      ...      ...          ...          ...          ...\n",
       "98661  fffcb937e9dd47a13f05ecb8290f4d3e      2018-03-17 00:55:27      170          1     78.00  62522.5  47715.5  47440.5    63.367827    48.360631    48.081913\n",
       "98662  fffecc9f79fd8c764f843e9951b11341      2018-03-29 16:59:26      157          1     54.90  65583.0  47715.5  33529.5    66.469706    48.360631    33.982831\n",
       "98663  fffeda5b6d849fbd39689bb92087f431      2018-05-22 13:36:02      103          1     47.90  78582.5  47715.5  27373.0    79.644964    48.360631    27.743093\n",
       "98664  ffff42319e9b2d713724ae527742af25      2018-06-13 16:57:05       81          1    199.90  82433.5  47715.5  84811.5    83.548031    48.360631    85.958182\n",
       "98665  ffffa3172527f765de70084a7e53aae8      2017-09-02 11:53:32      365          1     10.90  23222.0  47715.5    892.5    23.535970    48.360631     0.904567\n",
       "\n",
       "[98666 rows x 11 columns]"
      ]
     },
     "execution_count": 287,
     "metadata": {},
     "output_type": "execute_result"
    }
   ],
   "source": [
    "df_rfm"
   ]
  },
  {
   "cell_type": "code",
   "execution_count": 317,
   "id": "75b7e0ee",
   "metadata": {},
   "outputs": [
    {
     "data": {
      "text/html": [
       "<div>\n",
       "<style scoped>\n",
       "    .dataframe tbody tr th:only-of-type {\n",
       "        vertical-align: middle;\n",
       "    }\n",
       "\n",
       "    .dataframe tbody tr th {\n",
       "        vertical-align: top;\n",
       "    }\n",
       "\n",
       "    .dataframe thead th {\n",
       "        text-align: right;\n",
       "    }\n",
       "</style>\n",
       "<table border=\"1\" class=\"dataframe\">\n",
       "  <thead>\n",
       "    <tr style=\"text-align: right;\">\n",
       "      <th></th>\n",
       "      <th>customer_id</th>\n",
       "      <th>Recency</th>\n",
       "      <th>Frequency</th>\n",
       "      <th>Monetary</th>\n",
       "    </tr>\n",
       "  </thead>\n",
       "  <tbody>\n",
       "    <tr>\n",
       "      <th>0</th>\n",
       "      <td>00012a2ce6f8dcda20d059ce98491703</td>\n",
       "      <td>292</td>\n",
       "      <td>1</td>\n",
       "      <td>89.80</td>\n",
       "    </tr>\n",
       "    <tr>\n",
       "      <th>1</th>\n",
       "      <td>000161a058600d5901f007fab4c27140</td>\n",
       "      <td>413</td>\n",
       "      <td>1</td>\n",
       "      <td>54.90</td>\n",
       "    </tr>\n",
       "    <tr>\n",
       "      <th>2</th>\n",
       "      <td>0001fd6190edaaf884bcaf3d49edf079</td>\n",
       "      <td>551</td>\n",
       "      <td>1</td>\n",
       "      <td>179.99</td>\n",
       "    </tr>\n",
       "    <tr>\n",
       "      <th>3</th>\n",
       "      <td>0002414f95344307404f0ace7a26f1d5</td>\n",
       "      <td>382</td>\n",
       "      <td>1</td>\n",
       "      <td>149.90</td>\n",
       "    </tr>\n",
       "    <tr>\n",
       "      <th>4</th>\n",
       "      <td>000379cdec625522490c315e70c7a9fb</td>\n",
       "      <td>153</td>\n",
       "      <td>1</td>\n",
       "      <td>93.00</td>\n",
       "    </tr>\n",
       "    <tr>\n",
       "      <th>...</th>\n",
       "      <td>...</td>\n",
       "      <td>...</td>\n",
       "      <td>...</td>\n",
       "      <td>...</td>\n",
       "    </tr>\n",
       "    <tr>\n",
       "      <th>98661</th>\n",
       "      <td>fffcb937e9dd47a13f05ecb8290f4d3e</td>\n",
       "      <td>170</td>\n",
       "      <td>1</td>\n",
       "      <td>78.00</td>\n",
       "    </tr>\n",
       "    <tr>\n",
       "      <th>98662</th>\n",
       "      <td>fffecc9f79fd8c764f843e9951b11341</td>\n",
       "      <td>157</td>\n",
       "      <td>1</td>\n",
       "      <td>54.90</td>\n",
       "    </tr>\n",
       "    <tr>\n",
       "      <th>98663</th>\n",
       "      <td>fffeda5b6d849fbd39689bb92087f431</td>\n",
       "      <td>103</td>\n",
       "      <td>1</td>\n",
       "      <td>47.90</td>\n",
       "    </tr>\n",
       "    <tr>\n",
       "      <th>98664</th>\n",
       "      <td>ffff42319e9b2d713724ae527742af25</td>\n",
       "      <td>81</td>\n",
       "      <td>1</td>\n",
       "      <td>199.90</td>\n",
       "    </tr>\n",
       "    <tr>\n",
       "      <th>98665</th>\n",
       "      <td>ffffa3172527f765de70084a7e53aae8</td>\n",
       "      <td>365</td>\n",
       "      <td>1</td>\n",
       "      <td>10.90</td>\n",
       "    </tr>\n",
       "  </tbody>\n",
       "</table>\n",
       "<p>98666 rows × 4 columns</p>\n",
       "</div>"
      ],
      "text/plain": [
       "                            customer_id  Recency  Frequency  Monetary\n",
       "0      00012a2ce6f8dcda20d059ce98491703      292          1     89.80\n",
       "1      000161a058600d5901f007fab4c27140      413          1     54.90\n",
       "2      0001fd6190edaaf884bcaf3d49edf079      551          1    179.99\n",
       "3      0002414f95344307404f0ace7a26f1d5      382          1    149.90\n",
       "4      000379cdec625522490c315e70c7a9fb      153          1     93.00\n",
       "...                                 ...      ...        ...       ...\n",
       "98661  fffcb937e9dd47a13f05ecb8290f4d3e      170          1     78.00\n",
       "98662  fffecc9f79fd8c764f843e9951b11341      157          1     54.90\n",
       "98663  fffeda5b6d849fbd39689bb92087f431      103          1     47.90\n",
       "98664  ffff42319e9b2d713724ae527742af25       81          1    199.90\n",
       "98665  ffffa3172527f765de70084a7e53aae8      365          1     10.90\n",
       "\n",
       "[98666 rows x 4 columns]"
      ]
     },
     "execution_count": 317,
     "metadata": {},
     "output_type": "execute_result"
    }
   ],
   "source": [
    "df_rfm_new =df_rfm[[\"customer_id\",\"Recency\",\"Frequency\",\"Monetary\"]]\n",
    "df_rfm_new"
   ]
  },
  {
   "cell_type": "code",
   "execution_count": 341,
   "id": "a3f88669",
   "metadata": {},
   "outputs": [
    {
     "data": {
      "image/png": "[encoded data removed]",
      "text/plain": [
       "<Figure size 1000x300 with 1 Axes>"
      ]
     },
     "metadata": {},
     "output_type": "display_data"
    }
   ],
   "source": [
    "plt.figure(figsize=(10, 3))\n",
    "\n",
    "plt.hist(\n",
    "    [df_rfm_new[\"Recency\"].head(500),\n",
    "     df_rfm_new[\"Frequency\"].head(500),\n",
    "     df_rfm_new[\"Monetary\"].head(500)],\n",
    "    bins=5,\n",
    "    label=[\"Recency\", \"Frequency\", \"Monetary\"],\n",
    "    alpha=0.7\n",
    ")\n",
    "\n",
    "plt.title(\"Customer Segmentation Histogram\")\n",
    "plt.xlabel(\"Value\")\n",
    "plt.ylabel(\"Count\")\n",
    "plt.legend()\n",
    "plt.grid(True)\n",
    "plt.show()\n"
   ]
  },
  {
   "cell_type": "code",
   "execution_count": 346,
   "id": "de68d7bb",
   "metadata": {},
   "outputs": [
    {
     "data": {
      "image/png": "[encoded data removed]",
      "text/plain": [
       "<Figure size 1500x300 with 3 Axes>"
      ]
     },
     "metadata": {},
     "output_type": "display_data"
    }
   ],
   "source": [
    "fig , axs = plt.subplots(1,3,figsize=(15,3))\n",
    "\n",
    "axs[0].hist(df_rfm_new[\"Recency\"], bins=5, color='skyblue')\n",
    "axs[0].set_title(\"Recency\")\n",
    "\n",
    "axs[1].hist(df_rfm_new[\"Frequency\"],bins=5,color=\"lightgreen\")\n",
    "axs[1].set_title(\"Frequency\")\n",
    "\n",
    "axs[2].hist(df_rfm_new[\"Monetary\"],bins=5,color=\"salmon\")\n",
    "axs[2].set_title(\"Monetary\")\n",
    "\n",
    "plt.suptitle(\"RFM Segmentation - Histograms\")\n",
    "plt.tight_layout()\n",
    "\n",
    "plt.show()"
   ]
  },
  {
   "cell_type": "markdown",
   "id": "ea765c62",
   "metadata": {},
   "source": [
    "## Payment Method Distribution\n"
   ]
  },
  {
   "cell_type": "code",
   "execution_count": 350,
   "id": "b34ebb38",
   "metadata": {},
   "outputs": [
    {
     "data": {
      "image/png": "[encoded data removed]",
      "text/plain": [
       "<Figure size 1000x300 with 1 Axes>"
      ]
     },
     "metadata": {},
     "output_type": "display_data"
    },
    {
     "data": {
      "image/png": "[encoded data removed]",
      "text/plain": [
       "<Figure size 640x480 with 1 Axes>"
      ]
     },
     "metadata": {},
     "output_type": "display_data"
    }
   ],
   "source": [
    "plt.figure(figsize=(10,3))\n",
    "payments =pd.read_csv('../Dataset/olist_order_payments_dataset.csv')\n",
    "payment_stats = payments.groupby('payment_type').agg({\n",
    "    'payment_value': ['count', 'mean', 'sum']\n",
    "}).reset_index()\n",
    "\n",
    "payment_stats.columns = ['Payment Type', 'Count', 'Average Payment', 'Total Payment']\n",
    "\n",
    "\n",
    "sns.barplot(data=payment_stats, x='Payment Type', y='Count')\n",
    "plt.title('Number of Payments by Type')\n",
    "plt.xticks(rotation=45)\n",
    "plt.show()\n",
    "\n",
    "sns.boxplot(data=payments, x='payment_type', y='payment_value')\n",
    "plt.title('Payment Value by Type')\n",
    "plt.xticks(rotation=45)\n",
    "plt.show()\n"
   ]
  }
 ],
 "metadata": {
  "kernelspec": {
   "display_name": "Python 3",
   "language": "python",
   "name": "python3"
  },
  "language_info": {
   "codemirror_mode": {
    "name": "ipython",
    "version": 3
   },
   "file_extension": ".py",
   "mimetype": "text/x-python",
   "name": "python",
   "nbconvert_exporter": "python",
   "pygments_lexer": "ipython3",
   "version": "3.13.3"
  }
 },
 "nbformat": 4,
 "nbformat_minor": 5
}
